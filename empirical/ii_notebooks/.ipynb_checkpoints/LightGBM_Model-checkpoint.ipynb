{
 "cells": [
  {
   "cell_type": "code",
   "execution_count": 24,
   "id": "36726e8b",
   "metadata": {},
   "outputs": [],
   "source": [
    "import numpy as np  \n",
    "import pandas as pd  \n",
    "\n",
    "from datetime import datetime, timedelta\n",
    "import gc\n",
    "import lightgbm as lgb\n",
    "import os"
   ]
  },
  {
   "cell_type": "code",
   "execution_count": 25,
   "id": "9c051814",
   "metadata": {},
   "outputs": [],
   "source": [
    "c_col = {'event_name_1':'category', 'event_type_1':'category','event_name_2':'category', 'event_type_2':'category', \n",
    "            'weekday':'category', 'wm_yr_wk': 'int16', 'wday': 'int16', 'month': 'int16', 'year':'int16', \n",
    "            'snap_CA': 'float32', 'snap_TX': 'float32', 'snap_WI':'float32'}\n",
    "\n",
    "sp_col= {'store_id':'category', 'item_id': 'category', 'wm_yr_wk': 'int16', 'sell_price':'float32'}"
   ]
  },
  {
   "cell_type": "code",
   "execution_count": 26,
   "id": "448520da",
   "metadata": {},
   "outputs": [],
   "source": [
    "path0= \"~/Desktop/DemandLocalGlobal/empirical/data/m5_content/sales_train_validation.csv\"\n",
    "path1= \"~/Desktop/DemandLocalGlobal/empirical/data/m5_content/calendar.csv\"\n",
    "path2= \"~/Desktop/DemandLocalGlobal/empirical/data/m5_content/sample_submission.csv\"\n",
    "path3= \"~/Desktop/DemandLocalGlobal/empirical/data/m5_content/sell_prices.csv\"\n",
    "\n",
    "#stv_df= pd.read_csv(path0)\n",
    "c_df= pd.read_csv(path1, dtype= c_col)\n",
    "ss_df= pd.read_csv(path2)\n",
    "sp_df= pd.read_csv(path3, dtype= sp_col)"
   ]
  },
  {
   "cell_type": "code",
   "execution_count": 27,
   "id": "f5760ed0",
   "metadata": {},
   "outputs": [
    {
     "name": "stdout",
     "output_type": "stream",
     "text": [
      "<class 'pandas.core.frame.DataFrame'>\n",
      "RangeIndex: 1969 entries, 0 to 1968\n",
      "Data columns (total 14 columns):\n",
      " #   Column        Non-Null Count  Dtype   \n",
      "---  ------        --------------  -----   \n",
      " 0   date          1969 non-null   object  \n",
      " 1   wm_yr_wk      1969 non-null   int16   \n",
      " 2   weekday       1969 non-null   category\n",
      " 3   wday          1969 non-null   int16   \n",
      " 4   month         1969 non-null   int16   \n",
      " 5   year          1969 non-null   int16   \n",
      " 6   d             1969 non-null   object  \n",
      " 7   event_name_1  162 non-null    category\n",
      " 8   event_type_1  162 non-null    category\n",
      " 9   event_name_2  5 non-null      category\n",
      " 10  event_type_2  5 non-null      category\n",
      " 11  snap_CA       1969 non-null   float32 \n",
      " 12  snap_TX       1969 non-null   float32 \n",
      " 13  snap_WI       1969 non-null   float32 \n",
      "dtypes: category(5), float32(3), int16(4), object(2)\n",
      "memory usage: 81.0+ KB\n"
     ]
    }
   ],
   "source": [
    "c_df.info()"
   ]
  },
  {
   "cell_type": "code",
   "execution_count": 28,
   "id": "45c02299",
   "metadata": {},
   "outputs": [
    {
     "name": "stdout",
     "output_type": "stream",
     "text": [
      "<class 'pandas.core.frame.DataFrame'>\n",
      "RangeIndex: 6841121 entries, 0 to 6841120\n",
      "Data columns (total 4 columns):\n",
      " #   Column      Dtype   \n",
      "---  ------      -----   \n",
      " 0   store_id    category\n",
      " 1   item_id     category\n",
      " 2   wm_yr_wk    int16   \n",
      " 3   sell_price  float32 \n",
      "dtypes: category(2), float32(1), int16(1)\n",
      "memory usage: 58.8 MB\n"
     ]
    }
   ],
   "source": [
    "sp_df.info()"
   ]
  },
  {
   "cell_type": "code",
   "execution_count": 29,
   "id": "2fd98f87",
   "metadata": {},
   "outputs": [
    {
     "data": {
      "text/html": [
       "<div>\n",
       "<style scoped>\n",
       "    .dataframe tbody tr th:only-of-type {\n",
       "        vertical-align: middle;\n",
       "    }\n",
       "\n",
       "    .dataframe tbody tr th {\n",
       "        vertical-align: top;\n",
       "    }\n",
       "\n",
       "    .dataframe thead th {\n",
       "        text-align: right;\n",
       "    }\n",
       "</style>\n",
       "<table border=\"1\" class=\"dataframe\">\n",
       "  <thead>\n",
       "    <tr style=\"text-align: right;\">\n",
       "      <th></th>\n",
       "      <th>date</th>\n",
       "      <th>wm_yr_wk</th>\n",
       "      <th>weekday</th>\n",
       "      <th>wday</th>\n",
       "      <th>month</th>\n",
       "      <th>year</th>\n",
       "      <th>d</th>\n",
       "      <th>event_name_1</th>\n",
       "      <th>event_type_1</th>\n",
       "      <th>event_name_2</th>\n",
       "      <th>event_type_2</th>\n",
       "      <th>snap_CA</th>\n",
       "      <th>snap_TX</th>\n",
       "      <th>snap_WI</th>\n",
       "    </tr>\n",
       "  </thead>\n",
       "  <tbody>\n",
       "    <tr>\n",
       "      <th>0</th>\n",
       "      <td>2011-01-29</td>\n",
       "      <td>11101</td>\n",
       "      <td>Saturday</td>\n",
       "      <td>1</td>\n",
       "      <td>1</td>\n",
       "      <td>2011</td>\n",
       "      <td>d_1</td>\n",
       "      <td>NaN</td>\n",
       "      <td>NaN</td>\n",
       "      <td>NaN</td>\n",
       "      <td>NaN</td>\n",
       "      <td>0.0</td>\n",
       "      <td>0.0</td>\n",
       "      <td>0.0</td>\n",
       "    </tr>\n",
       "    <tr>\n",
       "      <th>1</th>\n",
       "      <td>2011-01-30</td>\n",
       "      <td>11101</td>\n",
       "      <td>Sunday</td>\n",
       "      <td>2</td>\n",
       "      <td>1</td>\n",
       "      <td>2011</td>\n",
       "      <td>d_2</td>\n",
       "      <td>NaN</td>\n",
       "      <td>NaN</td>\n",
       "      <td>NaN</td>\n",
       "      <td>NaN</td>\n",
       "      <td>0.0</td>\n",
       "      <td>0.0</td>\n",
       "      <td>0.0</td>\n",
       "    </tr>\n",
       "    <tr>\n",
       "      <th>2</th>\n",
       "      <td>2011-01-31</td>\n",
       "      <td>11101</td>\n",
       "      <td>Monday</td>\n",
       "      <td>3</td>\n",
       "      <td>1</td>\n",
       "      <td>2011</td>\n",
       "      <td>d_3</td>\n",
       "      <td>NaN</td>\n",
       "      <td>NaN</td>\n",
       "      <td>NaN</td>\n",
       "      <td>NaN</td>\n",
       "      <td>0.0</td>\n",
       "      <td>0.0</td>\n",
       "      <td>0.0</td>\n",
       "    </tr>\n",
       "    <tr>\n",
       "      <th>3</th>\n",
       "      <td>2011-02-01</td>\n",
       "      <td>11101</td>\n",
       "      <td>Tuesday</td>\n",
       "      <td>4</td>\n",
       "      <td>2</td>\n",
       "      <td>2011</td>\n",
       "      <td>d_4</td>\n",
       "      <td>NaN</td>\n",
       "      <td>NaN</td>\n",
       "      <td>NaN</td>\n",
       "      <td>NaN</td>\n",
       "      <td>1.0</td>\n",
       "      <td>1.0</td>\n",
       "      <td>0.0</td>\n",
       "    </tr>\n",
       "    <tr>\n",
       "      <th>4</th>\n",
       "      <td>2011-02-02</td>\n",
       "      <td>11101</td>\n",
       "      <td>Wednesday</td>\n",
       "      <td>5</td>\n",
       "      <td>2</td>\n",
       "      <td>2011</td>\n",
       "      <td>d_5</td>\n",
       "      <td>NaN</td>\n",
       "      <td>NaN</td>\n",
       "      <td>NaN</td>\n",
       "      <td>NaN</td>\n",
       "      <td>1.0</td>\n",
       "      <td>0.0</td>\n",
       "      <td>1.0</td>\n",
       "    </tr>\n",
       "  </tbody>\n",
       "</table>\n",
       "</div>"
      ],
      "text/plain": [
       "         date  wm_yr_wk    weekday  wday  month  year    d event_name_1  \\\n",
       "0  2011-01-29     11101   Saturday     1      1  2011  d_1          NaN   \n",
       "1  2011-01-30     11101     Sunday     2      1  2011  d_2          NaN   \n",
       "2  2011-01-31     11101     Monday     3      1  2011  d_3          NaN   \n",
       "3  2011-02-01     11101    Tuesday     4      2  2011  d_4          NaN   \n",
       "4  2011-02-02     11101  Wednesday     5      2  2011  d_5          NaN   \n",
       "\n",
       "  event_type_1 event_name_2 event_type_2  snap_CA  snap_TX  snap_WI  \n",
       "0          NaN          NaN          NaN      0.0      0.0      0.0  \n",
       "1          NaN          NaN          NaN      0.0      0.0      0.0  \n",
       "2          NaN          NaN          NaN      0.0      0.0      0.0  \n",
       "3          NaN          NaN          NaN      1.0      1.0      0.0  \n",
       "4          NaN          NaN          NaN      1.0      0.0      1.0  "
      ]
     },
     "execution_count": 29,
     "metadata": {},
     "output_type": "execute_result"
    }
   ],
   "source": [
    "c_df.head()"
   ]
  },
  {
   "cell_type": "code",
   "execution_count": 30,
   "id": "19b193cf",
   "metadata": {},
   "outputs": [],
   "source": [
    "max_lags = 57\n",
    "last_training_day = 1913\n",
    "fday= datetime(2016, 4, 25, 0, 0)\n"
   ]
  },
  {
   "cell_type": "code",
   "execution_count": 31,
   "id": "fd81dca3",
   "metadata": {},
   "outputs": [
    {
     "data": {
      "text/plain": [
       "datetime.datetime(2016, 4, 25, 0, 0)"
      ]
     },
     "execution_count": 31,
     "metadata": {},
     "output_type": "execute_result"
    }
   ],
   "source": [
    "fday"
   ]
  },
  {
   "cell_type": "code",
   "execution_count": 32,
   "id": "f77e6259",
   "metadata": {},
   "outputs": [],
   "source": [
    "def create_df(is_train=True, nrows=None, first_day=1200):\n",
    "    sp_df2 = sp_df.copy()\n",
    "    for col, col_dtype in sp_col.items():\n",
    "        #LightGBM: for categorical feature w/ high cardinality, it often works best to treat feature as numeric\n",
    "        if col_dtype == \"category\":\n",
    "            sp_df2[col] = sp_df2[col].cat.codes.astype(\"int16\")\n",
    "            sp_df2[col] -= sp_df2[col].min()\n",
    "    \n",
    "    c_df2 = c_df.copy()\n",
    "    c_df2[\"date\"] = pd.to_datetime(c_df[\"date\"])\n",
    "    for col, col_dtype in c_col.items():\n",
    "        if col_dtype == \"category\":\n",
    "            c_df2[col] = c_df2[col].cat.codes.astype(\"int16\")\n",
    "            #compound assignment operator: 1)find min of column, 2)subtract min from every value in column,\n",
    "            #3)Updates the column in place with the result #Effect:Operation shifts all values in the column \n",
    "            #so that the min becomes 0 (hence subtracting min w/ itself), effectively NORMALIZING the columns\n",
    "            #to start from ZERO\n",
    "            c_df2[col] -= c_df2[col].min()\n",
    "    \n",
    "    start_day = max(1 if is_train else last_training_day - max_lags, first_day) #look into this line of code\n",
    "    dcols= [f\"d_{day}\" for day in range(start_day, last_training_day+1)]\n",
    "    catcols= [\"id\", \"item_id\", \"dept_id\", \"cat_id\", \"store_id\", \"state_id\"]\n",
    "    dtype= {dcol: \"float32\" for dcol in dcols}\n",
    "    dtype.update({col:\"category\" for col in catcols if col!=\"id\"})\n",
    "    stv_df= pd.read_csv(path0, nrows=nrows, usecols= catcols+dcols, dtype=dtype) #look into this line of code\n",
    "    \n",
    "    #convert stv_df categorical colums to numerical\n",
    "    for col in catcols:\n",
    "        if col != \"id\":\n",
    "            stv_df[col] = stv_df[col].cat.codes.astype(\"int16\")\n",
    "            stv_df[col] -= stv_df[col].min() #subtracts all numbers by its \"min\" value\n",
    "    \n",
    "    if not is_train:\n",
    "        for day in range(last_training_day+1, last_training_day+28+1):\n",
    "            stv_df[f\"d_{day}\"] = np.nan\n",
    "    \n",
    "    stv_df2 = pd.melt(stv_df,\n",
    "                      id_vars=catcols,\n",
    "                      value_vars=[col for col in stv_df.columns if col.startswith(\"d_\")],\n",
    "                      var_name=\"d\",\n",
    "                      value_name=\"sales\"\n",
    "                     )\n",
    "    \n",
    "    stv_df2 = stv_df2.merge(c_df2, on=\"d\", copy=False)\n",
    "    stv_df2 = stv_df2.merge(sp_df2, on=[\"store_id\", \"item_id\", \"wm_yr_wk\"], copy=False)\n",
    "    return stv_df2\n",
    "    \n",
    "    \n",
    "        "
   ]
  },
  {
   "cell_type": "code",
   "execution_count": 33,
   "id": "095d1fb7",
   "metadata": {},
   "outputs": [],
   "source": [
    "def create_fea(df):\n",
    "    lags=[7, 28]\n",
    "    lag_cols= [f\"d_{lag}\" for lag in lags]\n",
    "    \n",
    "    for lag, lag_col in zip(lags, lag_cols):\n",
    "        df[lag_col] = df[[\"id\", \"sales\"]].groupby(\"id\")[\"sales\"].shift(lag)\n",
    "    \n",
    "    wins= [7, 28]\n",
    "    for win in wins:\n",
    "        for lag, lag_col in zip(lags, lag_cols):\n",
    "            df[f\"rmean_{lag}_{win}\"] = df[[\"id\", lag_col]].groupby(\"id\")[lag_col].transform(lambda x: x.rolling(win).mean())\n",
    "            \n",
    "    date_features = {\n",
    "        \"wday\":\"weekday\",\n",
    "        \"week\":\"weekofyear\",\n",
    "        \"month\":\"month\",\n",
    "        \"quarter\":\"quarter\",\n",
    "        \"year\":\"year\",\n",
    "        \"mday\":\"day\"\n",
    "    }\n",
    "    \n",
    "    for date_feature_name, date_feature_func in date_features.items():\n",
    "        if date_feature_name in df.columns:\n",
    "            df[date_feature_name] = df[date_feature_name].astype(\"int16\")\n",
    "        else:\n",
    "            df[date_feature_name] = getattr(df[\"date\"].dt, date_feature_func).astype(\"int16\")\n",
    "        \n",
    "        "
   ]
  },
  {
   "cell_type": "code",
   "execution_count": 34,
   "id": "14487c37",
   "metadata": {},
   "outputs": [],
   "source": [
    "#del df_test\n",
    "def create_fea(df):\n",
    "    lags =[7, 28]\n",
    "    lag_cols = [f'd_{lag}' for lag in lags]\n",
    "    \n",
    "    # shift the sales by lag value and append a new column\n",
    "    for lag, lag_col in zip(lags, lag_cols):\n",
    "        df[lag_col] = df[['id', 'sales']].groupby('id')['sales'].shift(lag)\n",
    "        \n",
    "    wins = [7, 28]\n",
    "    for win in wins:\n",
    "        for lag, lag_col in zip(lags, lag_cols):\n",
    "            df[f'rmean_{lag}_{win}'] = df[['id', lag_col]].groupby('id')[lag_col].transform(lambda x: x.rolling(win).mean())\n",
    "    \n",
    "    date_features = {\n",
    "        'wday':'weekday',\n",
    "        \"week\":\"isocalendar().week\",\n",
    "#         'week':'weekofyear',\n",
    "        'month':'month',\n",
    "        'quarter':'quarter',\n",
    "        'year':'year',\n",
    "        'mday':'day'\n",
    "    }\n",
    "    \n",
    "    # This code will add missing features of date in the dataframe & for the existing features it \n",
    "    # will change their type to int16\n",
    "    for date_feature_name, date_feature_func in date_features.items():\n",
    "        if date_feature_name in df.columns:\n",
    "            df[date_feature_name] = df[date_feature_name].astype('int16')\n",
    "        else:\n",
    "            if date_feature_func == \"isocalendar().week\":\n",
    "                df[date_feature_name] = df[\"date\"].dt.isocalendar().week.astype(\"int16\")\n",
    "            else:\n",
    "                df[date_feature_name] = getattr(df['date'].dt, date_feature_func).astype('int16')"
   ]
  },
  {
   "cell_type": "code",
   "execution_count": null,
   "id": "ac2d35e5",
   "metadata": {},
   "outputs": [],
   "source": []
  },
  {
   "cell_type": "code",
   "execution_count": 35,
   "id": "f22e758d",
   "metadata": {},
   "outputs": [],
   "source": [
    "FIRST_DAY=1"
   ]
  },
  {
   "cell_type": "code",
   "execution_count": 36,
   "id": "b38218bc",
   "metadata": {},
   "outputs": [
    {
     "data": {
      "text/plain": [
       "store_id      category\n",
       "item_id       category\n",
       "wm_yr_wk         int16\n",
       "sell_price     float32\n",
       "dtype: object"
      ]
     },
     "execution_count": 36,
     "metadata": {},
     "output_type": "execute_result"
    }
   ],
   "source": [
    "sp_df.dtypes"
   ]
  },
  {
   "cell_type": "code",
   "execution_count": 37,
   "id": "ac85d090",
   "metadata": {},
   "outputs": [
    {
     "name": "stdout",
     "output_type": "stream",
     "text": [
      "CPU times: user 45.6 s, sys: 33.2 s, total: 1min 18s\n",
      "Wall time: 1min 39s\n"
     ]
    }
   ],
   "source": [
    "%%time\n",
    "\n",
    "df = create_df(is_train=True, first_day= FIRST_DAY)"
   ]
  },
  {
   "cell_type": "code",
   "execution_count": 38,
   "id": "0d8c7b09",
   "metadata": {},
   "outputs": [
    {
     "data": {
      "text/html": [
       "<div>\n",
       "<style scoped>\n",
       "    .dataframe tbody tr th:only-of-type {\n",
       "        vertical-align: middle;\n",
       "    }\n",
       "\n",
       "    .dataframe tbody tr th {\n",
       "        vertical-align: top;\n",
       "    }\n",
       "\n",
       "    .dataframe thead th {\n",
       "        text-align: right;\n",
       "    }\n",
       "</style>\n",
       "<table border=\"1\" class=\"dataframe\">\n",
       "  <thead>\n",
       "    <tr style=\"text-align: right;\">\n",
       "      <th></th>\n",
       "      <th>event_name_1</th>\n",
       "    </tr>\n",
       "  </thead>\n",
       "  <tbody>\n",
       "    <tr>\n",
       "      <th>88499</th>\n",
       "      <td>27</td>\n",
       "    </tr>\n",
       "    <tr>\n",
       "      <th>88500</th>\n",
       "      <td>27</td>\n",
       "    </tr>\n",
       "    <tr>\n",
       "      <th>88501</th>\n",
       "      <td>27</td>\n",
       "    </tr>\n",
       "    <tr>\n",
       "      <th>88502</th>\n",
       "      <td>27</td>\n",
       "    </tr>\n",
       "    <tr>\n",
       "      <th>88503</th>\n",
       "      <td>27</td>\n",
       "    </tr>\n",
       "    <tr>\n",
       "      <th>...</th>\n",
       "      <td>...</td>\n",
       "    </tr>\n",
       "    <tr>\n",
       "      <th>45174232</th>\n",
       "      <td>5</td>\n",
       "    </tr>\n",
       "    <tr>\n",
       "      <th>45174233</th>\n",
       "      <td>5</td>\n",
       "    </tr>\n",
       "    <tr>\n",
       "      <th>45174234</th>\n",
       "      <td>5</td>\n",
       "    </tr>\n",
       "    <tr>\n",
       "      <th>45174235</th>\n",
       "      <td>5</td>\n",
       "    </tr>\n",
       "    <tr>\n",
       "      <th>45174236</th>\n",
       "      <td>5</td>\n",
       "    </tr>\n",
       "  </tbody>\n",
       "</table>\n",
       "<p>3345903 rows × 1 columns</p>\n",
       "</div>"
      ],
      "text/plain": [
       "          event_name_1\n",
       "88499               27\n",
       "88500               27\n",
       "88501               27\n",
       "88502               27\n",
       "88503               27\n",
       "...                ...\n",
       "45174232             5\n",
       "45174233             5\n",
       "45174234             5\n",
       "45174235             5\n",
       "45174236             5\n",
       "\n",
       "[3345903 rows x 1 columns]"
      ]
     },
     "execution_count": 38,
     "metadata": {},
     "output_type": "execute_result"
    }
   ],
   "source": [
    "df.loc[df[\"event_name_1\"] > 3][[\"event_name_1\"]]"
   ]
  },
  {
   "cell_type": "code",
   "execution_count": 39,
   "id": "fd51f821",
   "metadata": {},
   "outputs": [
    {
     "data": {
      "text/plain": [
       "31"
      ]
     },
     "execution_count": 39,
     "metadata": {},
     "output_type": "execute_result"
    }
   ],
   "source": [
    "len(df[\"event_name_1\"].unique())"
   ]
  },
  {
   "cell_type": "code",
   "execution_count": 40,
   "id": "32facb01",
   "metadata": {},
   "outputs": [
    {
     "data": {
      "text/plain": [
       "[NaN, 'SuperBowl', 'ValentinesDay', 'PresidentsDay', 'LentStart', ..., 'Chanukah End', 'NewYear', 'OrthodoxChristmas', 'MartinLutherKingDay', 'Easter']\n",
       "Length: 31\n",
       "Categories (30, object): ['Chanukah End', 'Christmas', 'Cinco De Mayo', 'ColumbusDay', ..., 'SuperBowl', 'Thanksgiving', 'ValentinesDay', 'VeteransDay']"
      ]
     },
     "execution_count": 40,
     "metadata": {},
     "output_type": "execute_result"
    }
   ],
   "source": [
    "c_df[\"event_name_1\"].unique()"
   ]
  },
  {
   "cell_type": "code",
   "execution_count": 41,
   "id": "a6689083",
   "metadata": {},
   "outputs": [],
   "source": [
    "    date_features = {\n",
    "        \"wday\":\"weekday\",\n",
    "        \"week\":\"weekofyear\",\n",
    "        \"month\":\"month\",\n",
    "        \"quarter\":\"quarter\",\n",
    "        \"year\":\"year\",\n",
    "        \"mday\":\"day\"\n",
    "    }"
   ]
  },
  {
   "cell_type": "code",
   "execution_count": 42,
   "id": "6a0b19d1",
   "metadata": {},
   "outputs": [
    {
     "name": "stdout",
     "output_type": "stream",
     "text": [
      "(46027957, 31)\n",
      "CPU times: user 2min 59s, sys: 38.4 s, total: 3min 37s\n",
      "Wall time: 4min 12s\n"
     ]
    }
   ],
   "source": [
    "%%time\n",
    "\n",
    "create_fea(df)\n",
    "print(df.shape)"
   ]
  },
  {
   "cell_type": "code",
   "execution_count": 43,
   "id": "739bd9f3",
   "metadata": {},
   "outputs": [
    {
     "data": {
      "text/plain": [
       "(44351007, 31)"
      ]
     },
     "execution_count": 43,
     "metadata": {},
     "output_type": "execute_result"
    }
   ],
   "source": [
    "df.dropna(inplace=True)\n",
    "df.shape"
   ]
  },
  {
   "cell_type": "code",
   "execution_count": 44,
   "id": "e6438fe2",
   "metadata": {},
   "outputs": [],
   "source": [
    "#del sp_df, c_df"
   ]
  },
  {
   "cell_type": "code",
   "execution_count": 45,
   "id": "89e1ce5a",
   "metadata": {},
   "outputs": [],
   "source": [
    "cat_features = ['item_id', 'store_id', 'cat_id', 'dept_id', 'state_id'] + ['event_name_1', 'event_type_1', 'event_name_2', 'event_type_2']\n",
    "useless_cols = ['id', 'date', 'sales', 'd', 'wm_yr_wk', 'weekday']\n",
    "train_cols = df.columns[~df.columns.isin(useless_cols)]\n",
    "X_train = df[train_cols]\n",
    "y_train = df['sales']"
   ]
  },
  {
   "cell_type": "code",
   "execution_count": 46,
   "id": "354c3e50",
   "metadata": {},
   "outputs": [],
   "source": [
    "import sys\n",
    "import pyarrow\n"
   ]
  },
  {
   "cell_type": "code",
   "execution_count": 47,
   "id": "c8c6567a",
   "metadata": {},
   "outputs": [
    {
     "name": "stdout",
     "output_type": "stream",
     "text": [
      "/Users/ericklopez/Desktop/DemandLocalGlobal/venv/bin/python\n"
     ]
    }
   ],
   "source": [
    "print(sys.executable)"
   ]
  },
  {
   "cell_type": "code",
   "execution_count": 54,
   "id": "42f33f6a",
   "metadata": {},
   "outputs": [
    {
     "name": "stdout",
     "output_type": "stream",
     "text": [
      "Successfully saved to ../data/m5_content//m5_data.parquet\n"
     ]
    }
   ],
   "source": [
    "des_path = \"../data/m5_content\"\n",
    "des_path2 = f\"{des_path}/m5_data.parquet\"\n",
    "df.to_parquet(des_path2, engine=\"pyarrow\", compression=\"snappy\")\n",
    "print(f\"Successfully saved to {des_path2}\")"
   ]
  },
  {
   "cell_type": "code",
   "execution_count": 55,
   "id": "be7fb281",
   "metadata": {},
   "outputs": [
    {
     "name": "stdout",
     "output_type": "stream",
     "text": [
      "Successfully saved to ../data/m5_content//X_train.parquet\n"
     ]
    }
   ],
   "source": [
    "des_path = \"../data/m5_content\"\n",
    "des_path2 = f\"{des_path}/X_train.parquet\"\n",
    "df.to_parquet(des_path2, engine=\"pyarrow\", compression=\"snappy\")\n",
    "print(f\"Successfully saved to {des_path2}\")"
   ]
  },
  {
   "cell_type": "code",
   "execution_count": 56,
   "id": "b89610e0",
   "metadata": {},
   "outputs": [
    {
     "name": "stdout",
     "output_type": "stream",
     "text": [
      "Successfully saved to ../data/m5_content//y_train.parquet\n"
     ]
    }
   ],
   "source": [
    "des_path = \"../data/m5_content/\"\n",
    "des_path2 = f\"{des_path}/y_train.parquet\"\n",
    "df.to_parquet(des_path2, engine=\"pyarrow\", compression=\"snappy\")\n",
    "print(f\"Successfully saved to {des_path2}\")"
   ]
  },
  {
   "cell_type": "code",
   "execution_count": 49,
   "id": "7ec5f29e",
   "metadata": {},
   "outputs": [],
   "source": [
    "\n",
    "# %%time\n",
    "\n",
    "# np.random.seed(777)\n",
    "\n",
    "# # This is a random sample, we're not gonna apply any time series train-test-split tricks here!\n",
    "# fake_valid_inds = np.random.choice(X_train.index.values, 2_000_000, replace=False) # Validation dataset\n",
    "# train_inds = np.setdiff1d(X_train.index.values, fake_valid_inds) # Training dataset\n",
    "\n",
    "# train_data = lgb.Dataset(X_train.loc[train_inds], label=y_train.loc[train_inds], categorical_feature=cat_features, free_raw_data=False)\n",
    "# fake_valid_data = lgb.Dataset(X_train.loc[fake_valid_inds], label=y_train.loc[fake_valid_inds], categorical_feature=cat_features, free_raw_data=False)"
   ]
  },
  {
   "cell_type": "code",
   "execution_count": 50,
   "id": "c4ac4cb8",
   "metadata": {},
   "outputs": [],
   "source": [
    "# del df, X_train, y_train, fake_valid_inds,train_inds ; gc.collect()\n"
   ]
  },
  {
   "cell_type": "code",
   "execution_count": 51,
   "id": "a2de55ea",
   "metadata": {},
   "outputs": [],
   "source": [
    "# params={\n",
    "# #    'device':'gpu',\n",
    "#     'objective':'poisson',\n",
    "#     'metric':['rmse'],\n",
    "#     'force_row_wise':True,\n",
    "#     'learning_rate':0.075,\n",
    "#     'sub_row': 0.75,\n",
    "#     'bagging_freq': 1,\n",
    "#     'lambda_12':0.1,\n",
    "#     'verbosity':1,\n",
    "#     'num_iterations':1200,\n",
    "#     'num_leaves':2**11-1,\n",
    "#     'min_data_in_leaf':2**12-1\n",
    "# }"
   ]
  },
  {
   "cell_type": "code",
   "execution_count": 52,
   "id": "f4c21cab",
   "metadata": {},
   "outputs": [],
   "source": [
    "# %%time\n",
    "\n",
    "# m_lgb = lgb.train(params, train_data, valid_sets=[fake_valid_data], verbose_eval=20)"
   ]
  },
  {
   "cell_type": "code",
   "execution_count": 53,
   "id": "a735e14c",
   "metadata": {},
   "outputs": [
    {
     "name": "stdout",
     "output_type": "stream",
     "text": [
      "/Users/ericklopez/Desktop/DemandLocalGlobal/empirical/ii_notebooks\r\n"
     ]
    }
   ],
   "source": [
    "!pwd"
   ]
  },
  {
   "cell_type": "code",
   "execution_count": 57,
   "id": "29280b20",
   "metadata": {},
   "outputs": [],
   "source": [
    "#https://lightgbm.readthedocs.io/en/latest/Advanced-Topics.html"
   ]
  },
  {
   "cell_type": "code",
   "execution_count": null,
   "id": "b54251f5",
   "metadata": {},
   "outputs": [],
   "source": []
  },
  {
   "cell_type": "code",
   "execution_count": 61,
   "id": "de1006c0",
   "metadata": {},
   "outputs": [],
   "source": [
    "c_df[\"date\"]= pd.to_datetime(c_df[\"date\"])"
   ]
  },
  {
   "cell_type": "code",
   "execution_count": null,
   "id": "e8af4309",
   "metadata": {},
   "outputs": [],
   "source": []
  },
  {
   "cell_type": "code",
   "execution_count": null,
   "id": "8468c89a",
   "metadata": {},
   "outputs": [],
   "source": []
  },
  {
   "cell_type": "code",
   "execution_count": null,
   "id": "2c8ee92e",
   "metadata": {},
   "outputs": [],
   "source": []
  },
  {
   "cell_type": "code",
   "execution_count": null,
   "id": "9faf366d",
   "metadata": {},
   "outputs": [],
   "source": []
  },
  {
   "cell_type": "code",
   "execution_count": null,
   "id": "f99269fd",
   "metadata": {},
   "outputs": [],
   "source": []
  },
  {
   "cell_type": "code",
   "execution_count": null,
   "id": "1b372a39",
   "metadata": {},
   "outputs": [],
   "source": []
  },
  {
   "cell_type": "code",
   "execution_count": null,
   "id": "2ea7744c",
   "metadata": {},
   "outputs": [],
   "source": []
  },
  {
   "cell_type": "code",
   "execution_count": null,
   "id": "cab266ef",
   "metadata": {},
   "outputs": [],
   "source": []
  },
  {
   "cell_type": "code",
   "execution_count": null,
   "id": "f8ca689d",
   "metadata": {},
   "outputs": [],
   "source": []
  }
 ],
 "metadata": {
  "kernelspec": {
   "display_name": "Python (DemandLocalGlobal venv)",
   "language": "python",
   "name": "demandlocalglobal"
  },
  "language_info": {
   "codemirror_mode": {
    "name": "ipython",
    "version": 3
   },
   "file_extension": ".py",
   "mimetype": "text/x-python",
   "name": "python",
   "nbconvert_exporter": "python",
   "pygments_lexer": "ipython3",
   "version": "3.9.13"
  }
 },
 "nbformat": 4,
 "nbformat_minor": 5
}
